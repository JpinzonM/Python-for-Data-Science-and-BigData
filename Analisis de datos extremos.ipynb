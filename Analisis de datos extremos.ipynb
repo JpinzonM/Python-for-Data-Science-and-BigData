{
 "cells": [
  {
   "cell_type": "code",
   "execution_count": 1,
   "metadata": {},
   "outputs": [],
   "source": [
    "import numpy as np \n",
    "import pandas as pd\n",
    "from sklearn.covariance import EllipticEnvelope"
   ]
  },
  {
   "cell_type": "code",
   "execution_count": 2,
   "metadata": {},
   "outputs": [],
   "source": [
    "#Load Data\n",
    "df = pd.read_csv('C:/Users/jorge/Desktop/Linkedin DATASCIENCE/CURSO/data/2008.csv', nrows=100000)"
   ]
  },
  {
   "cell_type": "code",
   "execution_count": 3,
   "metadata": {},
   "outputs": [],
   "source": [
    "x = df[\"ArrDelay\"].dropna()"
   ]
  },
  {
   "cell_type": "code",
   "execution_count": 4,
   "metadata": {},
   "outputs": [],
   "source": [
    "Q1 = np.percentile(x,25)\n",
    "Q3 = np.percentile(x,75)\n",
    "rangointer = Q3-Q1"
   ]
  },
  {
   "cell_type": "code",
   "execution_count": 5,
   "metadata": {},
   "outputs": [],
   "source": [
    "umbralsuperior = Q3 + 1.5*rangointer\n",
    "umbralinferior = Q1 - 1.5*rangointer"
   ]
  },
  {
   "cell_type": "code",
   "execution_count": 6,
   "metadata": {},
   "outputs": [
    {
     "data": {
      "text/plain": [
       "38.5"
      ]
     },
     "execution_count": 6,
     "metadata": {},
     "output_type": "execute_result"
    }
   ],
   "source": [
    "umbralsuperior"
   ]
  },
  {
   "cell_type": "code",
   "execution_count": 7,
   "metadata": {},
   "outputs": [
    {
     "data": {
      "text/plain": [
       "-37.5"
      ]
     },
     "execution_count": 7,
     "metadata": {},
     "output_type": "execute_result"
    }
   ],
   "source": [
    "umbralinferior"
   ]
  },
  {
   "cell_type": "code",
   "execution_count": 8,
   "metadata": {},
   "outputs": [
    {
     "data": {
      "text/plain": [
       "0.08387201361729721"
      ]
     },
     "execution_count": 8,
     "metadata": {},
     "output_type": "execute_result"
    }
   ],
   "source": [
    "np.mean(x > umbralsuperior)"
   ]
  },
  {
   "cell_type": "code",
   "execution_count": 9,
   "metadata": {},
   "outputs": [
    {
     "data": {
      "text/plain": [
       "0.0019048005025431114"
      ]
     },
     "execution_count": 9,
     "metadata": {},
     "output_type": "execute_result"
    }
   ],
   "source": [
    "np.mean(x < umbralinferior)"
   ]
  },
  {
   "cell_type": "code",
   "execution_count": 10,
   "metadata": {},
   "outputs": [],
   "source": [
    "#elegir este modelo que va a seleccionar el 1% de los datos que estan muy alejados de nuestros datos centrales.\n",
    "outliers = EllipticEnvelope(contamination = .01 )"
   ]
  },
  {
   "cell_type": "code",
   "execution_count": 11,
   "metadata": {},
   "outputs": [],
   "source": [
    "#con este modelo, estamos asumiendo que estan distribuidas gausianamente, es decir normales\n",
    "var_list = [\"DepDelay\",\"TaxiIn\",\"TaxiOut\",\"CarrierDelay\", \"WeatherDelay\",\"NASDelay\",\"SecurityDelay\",\"LateAircraftDelay\"]"
   ]
  },
  {
   "cell_type": "code",
   "execution_count": 12,
   "metadata": {},
   "outputs": [],
   "source": [
    "x = np.array(df.loc[:,var_list].dropna())"
   ]
  },
  {
   "cell_type": "code",
   "execution_count": 13,
   "metadata": {},
   "outputs": [
    {
     "data": {
      "text/plain": [
       "EllipticEnvelope(contamination=0.01)"
      ]
     },
     "execution_count": 13,
     "metadata": {},
     "output_type": "execute_result"
    }
   ],
   "source": [
    "#entrenar nuestro modelo: \n",
    "outliers.fit(x)"
   ]
  },
  {
   "cell_type": "code",
   "execution_count": 14,
   "metadata": {},
   "outputs": [],
   "source": [
    "#predecir con ese modelo, que valores forman parte de ese 1% que queremos detectar\n",
    "pred = outliers.predict(x)"
   ]
  },
  {
   "cell_type": "code",
   "execution_count": 15,
   "metadata": {},
   "outputs": [
    {
     "data": {
      "text/plain": [
       "array([1, 1, 1, ..., 1, 1, 1])"
      ]
     },
     "execution_count": 15,
     "metadata": {},
     "output_type": "execute_result"
    }
   ],
   "source": [
    "pred"
   ]
  },
  {
   "cell_type": "code",
   "execution_count": 16,
   "metadata": {},
   "outputs": [],
   "source": [
    "#detectar los -1 \n",
    "elips_outliers = np.where(pred == -1)[0]"
   ]
  },
  {
   "cell_type": "code",
   "execution_count": 17,
   "metadata": {},
   "outputs": [
    {
     "data": {
      "text/plain": [
       "array([   18,    53,    56,   273,   276,   285,   298,   308,   626,\n",
       "         627,   628,  1330,  1412,  1503,  1744,  1827,  1842,  1863,\n",
       "        1887,  1911,  1914,  2050,  2103,  2129,  2256,  2313,  2505,\n",
       "        2613,  2697,  2711,  2715,  2719,  2725,  2728,  2803,  3413,\n",
       "        3437,  3615,  3688,  3733,  3814,  3828,  3835,  3941,  3981,\n",
       "        3997,  4047,  4048,  4215,  4265,  4306,  4430,  4437,  4512,\n",
       "        4924,  5841,  5972,  5974,  5975,  5982,  5983,  5984,  5985,\n",
       "        5986,  5988,  5994,  5996,  5999,  6024,  6699,  6700,  6919,\n",
       "        6921,  6923,  6924,  6928,  6929,  6931,  6935,  7311,  7480,\n",
       "        7698,  7701,  7702,  7707,  7715,  8267,  8566,  8730,  8900,\n",
       "        8993,  9080,  9105,  9107,  9526,  9539,  9694,  9739,  9743,\n",
       "        9746,  9876,  9883,  9958, 10106, 10159, 10185, 10216, 10250,\n",
       "       10341, 10426, 10554, 10736, 10747, 10910, 11237, 11242, 11572,\n",
       "       11577, 12502, 13004, 13005, 13007, 13276, 13278, 13334, 13338,\n",
       "       13714, 13787, 13994, 14088, 14282, 14358, 14367, 14558, 14588,\n",
       "       14621, 14644, 14647, 14775, 14789, 14792, 14801, 14858, 14881,\n",
       "       14907, 14940, 14946, 14947, 14948, 15005, 15009, 15136, 15150,\n",
       "       15195, 15202, 15385, 15434, 15439, 15566, 15596, 15827, 15962,\n",
       "       16063, 16532, 16740, 17080, 17099, 17177, 17230, 17260, 17261,\n",
       "       17559, 17592, 17596, 17659, 17682, 17771, 17776, 17879, 17995,\n",
       "       18129, 18225, 18229, 18496, 18594, 18784, 18803, 18819, 18956,\n",
       "       19079, 19128, 19161, 19173, 19224, 19225, 19232, 19235],\n",
       "      dtype=int64)"
      ]
     },
     "execution_count": 17,
     "metadata": {},
     "output_type": "execute_result"
    }
   ],
   "source": [
    "# lo que hemos conseguido es una lista de todos los index, de aquellos casos que estan muy alejados, de nuestros \n",
    "# valores centrales, de todas las variables estudiadas, es decir nuestros outliers\n",
    "elips_outliers"
   ]
  },
  {
   "cell_type": "code",
   "execution_count": null,
   "metadata": {},
   "outputs": [],
   "source": []
  }
 ],
 "metadata": {
  "kernelspec": {
   "display_name": "Python 3",
   "language": "python",
   "name": "python3"
  },
  "language_info": {
   "codemirror_mode": {
    "name": "ipython",
    "version": 3
   },
   "file_extension": ".py",
   "mimetype": "text/x-python",
   "name": "python",
   "nbconvert_exporter": "python",
   "pygments_lexer": "ipython3",
   "version": "3.7.9"
  }
 },
 "nbformat": 4,
 "nbformat_minor": 4
}
