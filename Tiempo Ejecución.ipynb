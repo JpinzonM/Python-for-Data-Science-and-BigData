{
 "cells": [
  {
   "cell_type": "markdown",
   "metadata": {},
   "source": [
    "<h1 align=\"center\">\n",
    " Calcular Tiempos de ejecución\n",
    "</h1>    "
   ]
  },
  {
   "cell_type": "code",
   "execution_count": 1,
   "metadata": {},
   "outputs": [],
   "source": [
    "#importar librerias y paquetes para calcular el tiempo de ejecución. \n",
    "import time\n",
    "from datetime import timedelta"
   ]
  },
  {
   "cell_type": "code",
   "execution_count": 2,
   "metadata": {},
   "outputs": [
    {
     "name": "stdout",
     "output_type": "stream",
     "text": [
      "0.5031452178955078\n"
     ]
    }
   ],
   "source": [
    "#Captura o registro del tiempo inicial al ejecutar el codigo.\n",
    "start = time.time()\n",
    "#Code\n",
    "#Agregar retraso en la ejecucion para calcular un tiempo de ejecución\n",
    "time.sleep(0.5)\n",
    "#registrar tiempo de finalización para calcular el tiempo total de ejecución\n",
    "end = time.time()\n",
    "#imprimir tiempo de ejecución\n",
    "print(end - start)"
   ]
  },
  {
   "cell_type": "code",
   "execution_count": 3,
   "metadata": {},
   "outputs": [
    {
     "name": "stdout",
     "output_type": "stream",
     "text": [
      "0:00:01.015000\n"
     ]
    }
   ],
   "source": [
    "#Aplicar Convenciones de tiempo\n",
    "start = time.monotonic()\n",
    "time.sleep(1)\n",
    "end = time.monotonic()\n",
    "print(timedelta(seconds= end - start))"
   ]
  },
  {
   "cell_type": "code",
   "execution_count": 4,
   "metadata": {},
   "outputs": [
    {
     "name": "stdout",
     "output_type": "stream",
     "text": [
      "True\n"
     ]
    }
   ],
   "source": [
    "#Comparar distintos tiempos de ejecución\n",
    "#código 1\n",
    "start = time.time()\n",
    "time.sleep(0.5)\n",
    "end = time.time()\n",
    "\n",
    "#código 2.\n",
    "start2 = time.time()\n",
    "#code\n",
    "time.sleep(0.501)\n",
    "\n",
    "end2 = time.time()\n",
    "\n",
    "#código 1 vs código 2\n",
    "print(end - start > end2 - start2)\n",
    "#conclusion\n",
    "#el codigo 1 es mas rapido que el codigo 2."
   ]
  },
  {
   "cell_type": "markdown",
   "metadata": {},
   "source": [
    "# Recomendaciones para agilizar el tiempo de ejecucion. \n",
    "Realizar proceso en un loop, almacenar valores en una lista en ves de una variable. se puede con \n",
    "un codigo mas complejo determinar la media lamediana entre otros "
   ]
  }
 ],
 "metadata": {
  "kernelspec": {
   "display_name": "Python 3",
   "language": "python",
   "name": "python3"
  },
  "language_info": {
   "codemirror_mode": {
    "name": "ipython",
    "version": 3
   },
   "file_extension": ".py",
   "mimetype": "text/x-python",
   "name": "python",
   "nbconvert_exporter": "python",
   "pygments_lexer": "ipython3",
   "version": "3.7.9"
  }
 },
 "nbformat": 4,
 "nbformat_minor": 4
}
