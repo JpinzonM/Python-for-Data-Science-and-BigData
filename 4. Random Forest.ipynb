{
 "cells": [
  {
   "cell_type": "markdown",
   "metadata": {},
   "source": [
    "<h1 align=\"center\">\n",
    "   Random Forest\n",
    "</h1>   \n",
    "\n",
    "Es un conjunto de cientos o miles de arboles.\n",
    "Selecciona aleatoriamente observaciones de la base de datos. \n",
    "Seleciona aleatoriamente las variables \n",
    "\n",
    "Crea nuevos arboles de regresion o clasificación, donde los datos usados son diferentes en cada caso.\n",
    "<h2 align=\"center\">\n",
    "    Virtudes del metodo Random Forest\n",
    "</h2>   \n",
    "\n",
    "Evita sobre ajustar los resultados de nuestro modelo a los datos concretos de los que disponemos, ya que da un peso variable a las distintas variables y observaciones. \n",
    "\n",
    "Para obtener los resultados finales del modelo, el random forest, va a usar la media de los resutlados obtenidos en los distintos arboles, en caso que la variable respuesta sea numerica, o la categoria mayoritaria en caso de que la variable sea categorica. "
   ]
  },
  {
   "cell_type": "code",
   "execution_count": 1,
   "metadata": {},
   "outputs": [],
   "source": [
    "import numpy as np\n",
    "import pandas as pd\n",
    "from sklearn import tree\n",
    "from sklearn.ensemble import RandomForestClassifier"
   ]
  },
  {
   "cell_type": "code",
   "execution_count": 2,
   "metadata": {},
   "outputs": [],
   "source": [
    "df = pd.read_csv('C:/Users/jorge/Desktop/Linkedin DATASCIENCE/CURSO/data/2008.csv') #- set a size value of rows\n",
    "df = df.dropna(subset=[\"ArrDelay\"])\n",
    "df = df.sample(frac=1)\n",
    "dftest= df.tail(500000)\n",
    "df = df.head(500000)"
   ]
  },
  {
   "cell_type": "code",
   "execution_count": 3,
   "metadata": {},
   "outputs": [],
   "source": [
    "#ajustar un arbol de clasificacion para comparar los resultados con nuestro random forest.\n",
    "clf = tree.DecisionTreeClassifier()\n",
    "#regresoras variables cuantitativas.\n",
    "#training\n",
    "X = df[[\"Distance\",\"AirTime\",\"DepTime\", \"TaxiIn\", \"TaxiOut\", \"DepDelay\"]]\n",
    "#test\n",
    "X_test = dftest[[\"Distance\",\"AirTime\",\"DepTime\",\"TaxiIn\",\"TaxiOut\",\"DepDelay\"]]\n",
    "#Variable respuesta, si el vuelo se a retrasado mas de 10 min para el training\n",
    "Y = df[\"ArrDelay\"] > 10\n",
    "#Variable respuesta, si el vuelo se a retrasado mas de 10 min para el test \n",
    "Y_test = dftest[\"ArrDelay\"] > 10\n",
    "\n",
    "#entrenar el modelo\n",
    "clf = clf.fit(X, Y)\n",
    "#calcular \n",
    "Y_pred_test= clf.predict(X_test)"
   ]
  },
  {
   "cell_type": "code",
   "execution_count": 4,
   "metadata": {},
   "outputs": [
    {
     "data": {
      "text/plain": [
       "0.893752"
      ]
     },
     "execution_count": 4,
     "metadata": {},
     "output_type": "execute_result"
    }
   ],
   "source": [
    "#Calcular el potencial predictivo que tiene este modelo.\n",
    "np.mean(Y_test == Y_pred_test)"
   ]
  },
  {
   "cell_type": "code",
   "execution_count": 5,
   "metadata": {},
   "outputs": [
    {
     "data": {
      "text/plain": [
       "array([0.09207688, 0.08171071, 0.08174764, 0.05027894, 0.13189221,\n",
       "       0.56229361])"
      ]
     },
     "execution_count": 5,
     "metadata": {},
     "output_type": "execute_result"
    }
   ],
   "source": [
    "#Numero de arboles de nuestro random forest = n_estimators, n_jobs = todos los nucleos disponibles de nuestro ordenador.\n",
    "clf = RandomForestClassifier(n_estimators = 100, n_jobs = -1)\n",
    "clf.fit(X, Y)\n",
    "Y_pred_test = clf.predict(X_test)\n",
    "\n",
    "#Clasificar la importancia de cada una de las variables que hemos usado.\n",
    "clf.feature_importances_ \n",
    "# n_estimators = numero de arboles.\n",
    "# max_features = numero maximo de variables que queremos usar en nuestro modelo\n",
    "# bootstrap = permite realizar un muestreo con reemplazo, Bootstrap = true."
   ]
  },
  {
   "cell_type": "code",
   "execution_count": 6,
   "metadata": {},
   "outputs": [
    {
     "data": {
      "text/plain": [
       "0.924544"
      ]
     },
     "execution_count": 6,
     "metadata": {},
     "output_type": "execute_result"
    }
   ],
   "source": [
    "np.mean(Y_test==Y_pred_test)"
   ]
  },
  {
   "cell_type": "code",
   "execution_count": 7,
   "metadata": {},
   "outputs": [],
   "source": [
    "#RandomForestRegressor(), si fuera numerica, se ajusta igual aunque tendrías que buscar\n",
    "#otro tipo de metrica, como por ejemplo el r2"
   ]
  }
 ],
 "metadata": {
  "kernelspec": {
   "display_name": "Python 3",
   "language": "python",
   "name": "python3"
  },
  "language_info": {
   "codemirror_mode": {
    "name": "ipython",
    "version": 3
   },
   "file_extension": ".py",
   "mimetype": "text/x-python",
   "name": "python",
   "nbconvert_exporter": "python",
   "pygments_lexer": "ipython3",
   "version": "3.7.9"
  }
 },
 "nbformat": 4,
 "nbformat_minor": 4
}
