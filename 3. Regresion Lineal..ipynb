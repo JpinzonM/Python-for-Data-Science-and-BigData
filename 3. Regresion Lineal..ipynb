{
 "cells": [
  {
   "cell_type": "markdown",
   "metadata": {},
   "source": [
    "<h1 align=\"center\">\n",
    "    Regresión Lineal\n",
    "</h1>\n",
    "\n",
    "El modelo de regresion lineal es un modelo matematico, usado para aproximar la relacion de dependecia, entre una variable independiente, numerica y continua Y, y las variables dependientes X, asi com un termino aleatorio $\\varepsilon$, que corresponde al error o ruido en nuestros modelos.\n",
    "<br>\n",
    "El objetivo final de este modelo es minimizar la distancia cuadratica de todos los puntos en relacion a una recta, la recta de regresion.\n",
    "<br>\n",
    "A la variable y se le llama independiente, pero tambien vas a escuchar respuesta, a las explicativas o regresoras X, tambien se les puede llamar dependientes.\n",
    "<center>\n",
    "    <br>\n",
    "$y_=B_0 + B_1X_1 + B_2X_2+B_3X_3+...+\\varepsilon$\n",
    "    <br>\n",
    "    <br>\n",
    "$Independiente = Explicativas o Regresoras + Error$"
   ]
  },
  {
   "cell_type": "markdown",
   "metadata": {},
   "source": [
    "## Supuestos Teoricos\n",
    "- Relacion Lineal entre las variables, al incremetar x unidades una de las variables regresoras, se incremente en promedio betha veces la variable respuesta.\n",
    "- Errores Independientes, es decir que los errores en la mediciones de las variables explicativas son independientes entre sí, tambien se asume que las variables explicativas no estan relacionadas linealmente entre ellas.\n",
    "- Homocedasticidad, varianza constante, o que los errores son homocedasticos, en lenguaje llano, implica que si intentamos predecir los salarios en base en la edad, vamos a encontrar errores de la misma magnitud para gente joven, que para gente mayor.\n",
    "- E($\\varepsilon$) = 0, que los errores tengan una esperanza matematica igual a 0, los errores no van a tener una sistematicamente tendencia positiva o negativa, es decir, vamos a predecir algunos casos por encima de su valor real y algunos por debajo, pero nunca todos por arriba o todos por abajo.\n",
    "- Error Total = $\\sum \\varepsilon_i$, que el error total, sea la suma de todos los errores. "
   ]
  },
  {
   "cell_type": "code",
   "execution_count": 1,
   "metadata": {},
   "outputs": [],
   "source": [
    "# Ejemplo Predecir el  retraso en las aereolineas EEUU."
   ]
  },
  {
   "cell_type": "code",
   "execution_count": 2,
   "metadata": {},
   "outputs": [
    {
     "name": "stderr",
     "output_type": "stream",
     "text": [
      "<frozen importlib._bootstrap>:219: RuntimeWarning: numpy.ufunc size changed, may indicate binary incompatibility. Expected 192 from C header, got 216 from PyObject\n"
     ]
    }
   ],
   "source": [
    "import matplotlib.pyplot as plt \n",
    "import numpy as np\n",
    "import pandas as pd\n",
    "from sklearn import datasets, linear_model\n",
    "from sklearn.metrics import mean_squared_error, r2_score"
   ]
  },
  {
   "cell_type": "code",
   "execution_count": 3,
   "metadata": {},
   "outputs": [],
   "source": [
    "df = pd.read_csv('C:/Users/jorge/Desktop/Linkedin DATASCIENCE/CURSO/data/2008.csv')\n"
   ]
  },
  {
   "cell_type": "code",
   "execution_count": 4,
   "metadata": {},
   "outputs": [],
   "source": [
    "df = df.dropna(subset = [\"ArrDelay\"])\n",
    "df = df.sample(frac=1).head(100000)\n",
    "Y = df[\"ArrDelay\"]\n",
    "X = df[[\"DepDelay\"]]"
   ]
  },
  {
   "cell_type": "code",
   "execution_count": 5,
   "metadata": {},
   "outputs": [
    {
     "name": "stdout",
     "output_type": "stream",
     "text": [
      "Coeficientes:  [1.02200951]\n",
      "R Cuadrado:  0.8636254579197844\n"
     ]
    }
   ],
   "source": [
    "regr = linear_model.LinearRegression()\n",
    "regr.fit(X,Y)\n",
    "\n",
    "print(\"Coeficientes: \", regr.coef_)\n",
    "Y_pred = regr.predict(X)\n",
    "print(\"R Cuadrado: \", r2_score(Y, Y_pred))"
   ]
  },
  {
   "cell_type": "code",
   "execution_count": 6,
   "metadata": {},
   "outputs": [
    {
     "data": {
      "image/png": "[encoded data removed]",
      "text/plain": [
       "<Figure size 432x288 with 1 Axes>"
      ]
     },
     "metadata": {
      "needs_background": "light"
     },
     "output_type": "display_data"
    }
   ],
   "source": [
    "plt.scatter(X[1:10000], Y[1:10000], color=\"black\")\n",
    "plt.plot(X[1:10000],Y_pred[1:10000], color= \"Blue\")\n",
    "plt.show()"
   ]
  },
  {
   "cell_type": "code",
   "execution_count": 8,
   "metadata": {},
   "outputs": [],
   "source": [
    "X = df[['AirTime','Distance','TaxiIn','TaxiOut']]\n",
    "df[\"Month\"] = df[\"Month\"].apply(str)\n",
    "df[\"DayofMonth\"] = df[\"DayofMonth\"].apply(str)\n",
    "df[\"DayOfWeek\"] = df[\"DayOfWeek\"].apply(str)\n",
    "\n",
    "#una variable dummy, es una variable que toma valor 1 o 0, en función\n",
    "#de si aparece la categoria que estamos estudiando.\n",
    "dummies = pd.get_dummies(data=df[['Month', 'DayofMonth', 'DayOfWeek', 'Origin', 'Dest']])\n",
    "X = dummies.add(X, fill_value=0)"
   ]
  },
  {
   "cell_type": "code",
   "execution_count": 9,
   "metadata": {},
   "outputs": [
    {
     "data": {
      "text/plain": [
       "Index(['AirTime', 'DayOfWeek_1', 'DayOfWeek_2', 'DayOfWeek_3', 'DayOfWeek_4',\n",
       "       'DayOfWeek_5', 'DayOfWeek_6', 'DayOfWeek_7', 'DayofMonth_1',\n",
       "       'DayofMonth_10',\n",
       "       ...\n",
       "       'Origin_VLD', 'Origin_VPS', 'Origin_WRG', 'Origin_WYS', 'Origin_XNA',\n",
       "       'Origin_YAK', 'Origin_YKM', 'Origin_YUM', 'TaxiIn', 'TaxiOut'],\n",
       "      dtype='object', length=650)"
      ]
     },
     "execution_count": 9,
     "metadata": {},
     "output_type": "execute_result"
    }
   ],
   "source": [
    "X.columns"
   ]
  },
  {
   "cell_type": "code",
   "execution_count": 11,
   "metadata": {},
   "outputs": [
    {
     "name": "stdout",
     "output_type": "stream",
     "text": [
      "R cuadrado: 0.1881153916958418\n"
     ]
    }
   ],
   "source": [
    "regr = linear_model.LinearRegression()\n",
    "regr.fit(X, Y)\n",
    "\n",
    "#print(\"Coeficientes: \", regr.coef_)\n",
    "Y_pred = regr.predict(X)\n",
    "print(\"R cuadrado:\", r2_score(Y, Y_pred))"
   ]
  },
  {
   "cell_type": "code",
   "execution_count": 12,
   "metadata": {},
   "outputs": [],
   "source": [
    "X = X.add(df[[\"DepDelay\"]],fill_value=0)"
   ]
  },
  {
   "cell_type": "code",
   "execution_count": 13,
   "metadata": {},
   "outputs": [
    {
     "name": "stdout",
     "output_type": "stream",
     "text": [
      "R cuadrado: 0.9713156514443347\n"
     ]
    }
   ],
   "source": [
    "regr = linear_model.LinearRegression()\n",
    "regr.fit(X, Y)\n",
    "\n",
    "#print(\"Coeficientes: \", regr.coef_)\n",
    "Y_pred = regr.predict(X)\n",
    "print(\"R cuadrado:\", r2_score(Y, Y_pred))"
   ]
  }
 ],
 "metadata": {
  "kernelspec": {
   "display_name": "Python 3",
   "language": "python",
   "name": "python3"
  },
  "language_info": {
   "codemirror_mode": {
    "name": "ipython",
    "version": 3
   },
   "file_extension": ".py",
   "mimetype": "text/x-python",
   "name": "python",
   "nbconvert_exporter": "python",
   "pygments_lexer": "ipython3",
   "version": "3.7.9"
  }
 },
 "nbformat": 4,
 "nbformat_minor": 4
}
